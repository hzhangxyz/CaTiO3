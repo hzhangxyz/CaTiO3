{
 "cells": [
  {
   "cell_type": "markdown",
   "metadata": {},
   "source": [
    "# Useful function "
   ]
  },
  {
   "cell_type": "code",
   "execution_count": 53,
   "metadata": {
    "collapsed": true
   },
   "outputs": [],
   "source": [
    "def check(temp):\n",
    "    temp = map(lambda x:x/3.8822,temp)\n",
    "    temp[3]-=0.5\n",
    "    temp[4]-=0.5\n",
    "    temp[5]-=0.5\n",
    "    temp[0]-=1 if temp[0]>0.5 else 0\n",
    "    temp[1]-=1 if temp[1]>0.5 else 0\n",
    "    temp[2]-=1 if temp[2]>0.5 else 0\n",
    "    return temp"
   ]
  },
  {
   "cell_type": "markdown",
   "metadata": {},
   "source": [
    "# Import data"
   ]
  },
  {
   "cell_type": "code",
   "execution_count": 57,
   "metadata": {
    "collapsed": false
   },
   "outputs": [],
   "source": [
    "output=!cat output"
   ]
  },
  {
   "cell_type": "code",
   "execution_count": 58,
   "metadata": {
    "collapsed": false
   },
   "outputs": [],
   "source": [
    "pre  = sorted(map(eval,output),key=lambda x:x[-1])\n",
    "data = [(check(i[0]),i[1]) for i in pre]"
   ]
  },
  {
   "cell_type": "code",
   "execution_count": 59,
   "metadata": {
    "collapsed": false
   },
   "outputs": [
    {
     "data": {
      "text/plain": [
       "([0.027553964247076398,\n",
       "  0.018012982329606925,\n",
       "  -0.02206480861367277,\n",
       "  0.049438462727319554,\n",
       "  0.031737159342640764,\n",
       "  -0.04087115553036941],\n",
       " -40.0773018)"
      ]
     },
     "execution_count": 59,
     "metadata": {},
     "output_type": "execute_result"
    }
   ],
   "source": [
    "data[0]"
   ]
  },
  {
   "cell_type": "code",
   "execution_count": 60,
   "metadata": {
    "collapsed": false
   },
   "outputs": [
    {
     "data": {
      "text/plain": [
       "([0.017842975632373397,\n",
       "  -0.0035005924475812744,\n",
       "  -0.021946319097418954,\n",
       "  0.030181340477049012,\n",
       "  -0.0009479161300294248,\n",
       "  -0.047867188707433894],\n",
       " -40.07229816)"
      ]
     },
     "execution_count": 60,
     "metadata": {},
     "output_type": "execute_result"
    }
   ],
   "source": [
    "data[100]"
   ]
  },
  {
   "cell_type": "code",
   "execution_count": null,
   "metadata": {
    "collapsed": true
   },
   "outputs": [],
   "source": []
  }
 ],
 "metadata": {
  "anaconda-cloud": {},
  "kernelspec": {
   "display_name": "Python [default]",
   "language": "python",
   "name": "python2"
  },
  "language_info": {
   "codemirror_mode": {
    "name": "ipython",
    "version": 2
   },
   "file_extension": ".py",
   "mimetype": "text/x-python",
   "name": "python",
   "nbconvert_exporter": "python",
   "pygments_lexer": "ipython2",
   "version": "2.7.12"
  }
 },
 "nbformat": 4,
 "nbformat_minor": 1
}
